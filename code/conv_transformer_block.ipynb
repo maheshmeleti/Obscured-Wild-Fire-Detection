{
 "cells": [
  {
   "cell_type": "code",
   "execution_count": 1,
   "id": "d16e4168",
   "metadata": {},
   "outputs": [
    {
     "name": "stderr",
     "output_type": "stream",
     "text": [
      "/home/umeleti/.conda/envs/pytorch-p100/lib/python3.9/site-packages/tqdm/auto.py:21: TqdmWarning: IProgress not found. Please update jupyter and ipywidgets. See https://ipywidgets.readthedocs.io/en/stable/user_install.html\n",
      "  from .autonotebook import tqdm as notebook_tqdm\n"
     ]
    }
   ],
   "source": [
    "import torch\n",
    "from torch.autograd import Variable\n",
    "import torch.nn as nn\n",
    "from einops import rearrange, repeat"
   ]
  },
  {
   "cell_type": "code",
   "execution_count": 2,
   "id": "30ad4915",
   "metadata": {},
   "outputs": [],
   "source": [
    "device = torch.device('cuda' if torch.cuda.is_available() else 'cpu')"
   ]
  },
  {
   "cell_type": "code",
   "execution_count": 5,
   "id": "3b122f83",
   "metadata": {},
   "outputs": [],
   "source": [
    "class Attention(nn.Module):\n",
    "    def __init__(self, in_channels, out_channels, width, height):\n",
    "        super().__init__()\n",
    "        self.in_channels = in_channels\n",
    "        self.out_channels = out_channels\n",
    "        self.width = width\n",
    "        self.height = height\n",
    "        \n",
    "        self.in_dim = in_channels//2\n",
    "        stride = 1\n",
    "        \n",
    "        self.key_conv = nn.Conv3d(self.in_channels, self.in_dim, kernel_size=(1, 3, 3), stride=stride, padding=(0,1,1))\n",
    "        self.query_conv = nn.Conv3d(self.in_channels, self.in_dim, kernel_size=(1, 3, 3), stride=stride, padding=(0,1,1))\n",
    "        self.value_conv = nn.Conv3d(self.in_channels, self.in_dim, kernel_size=(1, 3, 3), stride=stride, padding=(0,1,1))\n",
    "        \n",
    "        self.scale = (width*height)**(-0.5)\n",
    "        self.sigmoid = nn.Sigmoid()\n",
    "        \n",
    "        self.out_conv = nn.Conv3d(self.in_dim, self.in_channels, kernel_size=(1, 3, 3), stride=stride, padding=(0,1,1))\n",
    "        \n",
    "    def forward(self, x):\n",
    "        \n",
    "        key = self.key_conv(x)\n",
    "        query = self.query_conv(x)\n",
    "        value = self.value_conv(x)\n",
    "        \n",
    "        key = rearrange(key, 'b c s h w -> b c s (h w)')\n",
    "        query = rearrange(query, 'b c s h w -> b c s (h w)')\n",
    "        value = rearrange(value, 'b c s h w -> b c s (h w)')\n",
    "        \n",
    "        attention_mat = self.sigmoid(torch.matmul(query, key.transpose(-1, -2))*self.scale)\n",
    "        attention = torch.matmul(attention_mat, value)\n",
    "        out = rearrange(attention, 'b c s (h w) -> b c s h w', h = self.height, w = self.width)\n",
    "        \n",
    "        return self.out_conv(out)\n",
    "\n",
    "class PreNorm(nn.Module):\n",
    "    def __init__(self, dim, fn):\n",
    "        super().__init__()\n",
    "        self.norm = nn.BatchNorm3d(dim)\n",
    "        self.fn = fn\n",
    "    def forward(self, x, **kwargs):\n",
    "        return self.fn(self.norm(x), **kwargs)    \n",
    "    \n",
    "class Forward(nn.Module):\n",
    "    def __init__(self, in_channels):\n",
    "        super().__init__()\n",
    "        self.in_channels = in_channels\n",
    "        self.in_dim = in_channels**2\n",
    "        stride = 1\n",
    "\n",
    "        self.conv1 = nn.Sequential(nn.Conv3d(self.in_channels, self.in_channels, kernel_size=(1, 3, 3), stride=stride, padding=(0,1,1)),\n",
    "                                   nn.ReLU())\n",
    "\n",
    "        \n",
    "    def forward(self, x):\n",
    "        \n",
    "        x = self.conv1(x)\n",
    "        \n",
    "        return x\n",
    "    \n",
    "\n",
    "class Conv_Transfomer(nn.Module):\n",
    "    def __init__(self, in_channels width, height, depth=1):\n",
    "        super().__init__()\n",
    "        self.layers = nn.ModuleList([])\n",
    "        \n",
    "        for _ in range(depth):\n",
    "            self.layers.append(nn.ModuleList([\n",
    "                PreNorm(in_channels, Attention(in_channels, in_channels, width, height)),\n",
    "                PreNorm(in_channels, Forward(in_channels))\n",
    "            ]))\n",
    "    \n",
    "    def forward(self, x):\n",
    "        for attn, ff in self.layers:\n",
    "            x = attn(x) + x\n",
    "            x = ff(x) + x\n",
    "        \n",
    "        return x"
   ]
  },
  {
   "cell_type": "code",
   "execution_count": 10,
   "id": "76b87b0e",
   "metadata": {},
   "outputs": [],
   "source": [
    "class Vid_Transformer(nn.Module):\n",
    "    def __init__(self, in_channels, out_channels, width, height, seq_len, depth=1):\n",
    "        super().__init__()\n",
    "        \n",
    "        self.in_channels =  in_channels\n",
    "        self.out_channels =  out_channels\n",
    "        self.width = width\n",
    "        self.height = height\n",
    "        self.seq_len = seq_len\n",
    "        self.depth = depth\n",
    "        \n",
    "        self.pos_embedding = nn.Parameter(torch.randn(1, 1, self.seq_len, self.width, self.height))\n",
    "        \n",
    "        self.cvt = Conv_Transfomer(self.in_channels, self.out_channels, self.width, self.height, self.depth).to(device)\n",
    "        \n",
    "        self.final_conv = nn.Sequential(nn.BatchNorm3d(self.in_channels), \n",
    "                                       nn.Conv3d(self.in_channels, self.out_channels, kernel_size=(1, 3, 3), stride=1, padding=(0,1,1)))\n",
    "        \n",
    "    def forward(self, x):\n",
    "        \n",
    "        b, c, s, h, w = x.shape\n",
    "        pos_embeddings = repeat(self.pos_embedding, '1 1 s w h -> b c s w h', b = b, c = c) \n",
    "        \n",
    "        x += pos_embeddings\n",
    "        \n",
    "        x = self.final_conv(x)\n",
    "        \n",
    "        x = x.mean(dim=2)\n",
    "        \n",
    "        return x"
   ]
  },
  {
   "cell_type": "code",
   "execution_count": 11,
   "id": "40349f88",
   "metadata": {},
   "outputs": [],
   "source": [
    "batch_size = 1\n",
    "seq_len = 20\n",
    "width = 32 \n",
    "height = 32\n",
    "in_channels = 512\n",
    "out_channels= 512\n",
    "depth = 5\n",
    "feat = torch.rand((batch_size, in_channels, seq_len, width, height)).to(device)\n",
    "\n",
    "# cvt = Conv_Transfomer(in_channels, out_channels, width, height,depth).to(device)\n",
    "# out = cvt(feat)\n",
    "vt = Vid_Transformer(in_channels, out_channels, width, height, seq_len, depth=1).to(device)\n",
    "\n",
    "out = vt(feat)"
   ]
  },
  {
   "cell_type": "code",
   "execution_count": 12,
   "id": "19c3f613",
   "metadata": {},
   "outputs": [
    {
     "data": {
      "text/plain": [
       "torch.Size([1, 512, 32, 32])"
      ]
     },
     "execution_count": 12,
     "metadata": {},
     "output_type": "execute_result"
    }
   ],
   "source": [
    "out.shape"
   ]
  },
  {
   "cell_type": "code",
   "execution_count": 5,
   "id": "0ee3b3e0",
   "metadata": {},
   "outputs": [
    {
     "name": "stdout",
     "output_type": "stream",
     "text": [
      "Tue Jun 20 15:50:01 2023       \n",
      "+-----------------------------------------------------------------------------+\n",
      "| NVIDIA-SMI 515.48.07    Driver Version: 515.48.07    CUDA Version: 11.7     |\n",
      "|-------------------------------+----------------------+----------------------+\n",
      "| GPU  Name        Persistence-M| Bus-Id        Disp.A | Volatile Uncorr. ECC |\n",
      "| Fan  Temp  Perf  Pwr:Usage/Cap|         Memory-Usage | GPU-Util  Compute M. |\n",
      "|                               |                      |               MIG M. |\n",
      "|===============================+======================+======================|\n",
      "|   0  NVIDIA A100-PCI...  Off  | 00000000:D8:00.0 Off |                    0 |\n",
      "| N/A   24C    P0    38W / 250W |   3835MiB / 40960MiB |     19%      Default |\n",
      "|                               |                      |             Disabled |\n",
      "+-------------------------------+----------------------+----------------------+\n",
      "                                                                               \n",
      "+-----------------------------------------------------------------------------+\n",
      "| Processes:                                                                  |\n",
      "|  GPU   GI   CI        PID   Type   Process name                  GPU Memory |\n",
      "|        ID   ID                                                   Usage      |\n",
      "|=============================================================================|\n",
      "|    0   N/A  N/A      5220      G   /usr/libexec/Xorg                  22MiB |\n",
      "|    0   N/A  N/A      6120      G   /usr/libexec/Xorg                  22MiB |\n",
      "|    0   N/A  N/A   3282765      C   ...s/pytorch-p100/bin/python     3787MiB |\n",
      "+-----------------------------------------------------------------------------+\n"
     ]
    }
   ],
   "source": [
    "!nvidia-smi"
   ]
  },
  {
   "cell_type": "code",
   "execution_count": 6,
   "id": "4efb33a3",
   "metadata": {},
   "outputs": [
    {
     "data": {
      "text/plain": [
       "torch.Size([1, 512, 20, 32, 32])"
      ]
     },
     "execution_count": 6,
     "metadata": {},
     "output_type": "execute_result"
    }
   ],
   "source": [
    "out.shape"
   ]
  },
  {
   "cell_type": "code",
   "execution_count": 1,
   "id": "936afff4",
   "metadata": {},
   "outputs": [
    {
     "name": "stderr",
     "output_type": "stream",
     "text": [
      "/home/umeleti/.conda/envs/pytorch-p100/lib/python3.9/site-packages/tqdm/auto.py:21: TqdmWarning: IProgress not found. Please update jupyter and ipywidgets. See https://ipywidgets.readthedocs.io/en/stable/user_install.html\n",
      "  from .autonotebook import tqdm as notebook_tqdm\n",
      "/home/umeleti/.conda/envs/pytorch-p100/lib/python3.9/site-packages/torchvision/models/_utils.py:208: UserWarning: The parameter 'pretrained' is deprecated since 0.13 and may be removed in the future, please use 'weights' instead.\n",
      "  warnings.warn(\n",
      "/home/umeleti/.conda/envs/pytorch-p100/lib/python3.9/site-packages/torchvision/models/_utils.py:223: UserWarning: Arguments other than a weight enum or `None` for 'weights' are deprecated since 0.13 and may be removed in the future. The current behavior is equivalent to passing `weights=VGG16_Weights.IMAGENET1K_V1`. You can also use `weights=VGG16_Weights.DEFAULT` to get the most up-to-date weights.\n",
      "  warnings.warn(msg)\n"
     ]
    },
    {
     "name": "stdout",
     "output_type": "stream",
     "text": [
      "Out shape -  torch.Size([3, 2, 1, 512, 512])\n",
      "Target shape -  torch.Size([3, 2, 1, 512, 512])\n",
      "loss - 0.33669984340667725\n"
     ]
    },
    {
     "name": "stderr",
     "output_type": "stream",
     "text": [
      "/home/umeleti/.conda/envs/pytorch-p100/lib/python3.9/site-packages/torch/nn/functional.py:1967: UserWarning: nn.functional.sigmoid is deprecated. Use torch.sigmoid instead.\n",
      "  warnings.warn(\"nn.functional.sigmoid is deprecated. Use torch.sigmoid instead.\")\n"
     ]
    }
   ],
   "source": [
    "import torch\n",
    "import torch.nn as nn\n",
    "import torch.nn.functional as f\n",
    "\n",
    "from decoder import Decoder\n",
    "\n",
    "from conv_transformer import Vid_Transformer\n",
    "import torchvision.models as models\n",
    "\n",
    "class seq_seg(nn.Module):\n",
    "    def __init__(self, n_classes, seq_length):\n",
    "        super(seq_seg, self).__init__()\n",
    "\n",
    "        self.device = torch.device('cuda' if torch.cuda.is_available() else 'cpu')\n",
    "        self.seq_length = seq_length\n",
    "        self.n_classes = n_classes\n",
    "        \n",
    "        self.encoder = nn.Sequential(*models.vgg16(pretrained=True).features[:27])\n",
    "        \n",
    "\n",
    "        self.seq_len = 20\n",
    "        self.width = 32 \n",
    "        self.height = 32\n",
    "        self.in_channels = 512\n",
    "        self.out_channels= 512\n",
    "        self.depth = 4\n",
    "\n",
    "        self.feat_aggregator = Vid_Transformer(self.in_channels, self.out_channels, self.width, self.height, self.seq_len, self.depth)\n",
    "\n",
    "        self.decoder = Decoder(self.n_classes)\n",
    "\n",
    "    \n",
    "    def forward(self, x):\n",
    "        \n",
    "        batch_size, c, s, h, w = x.shape\n",
    "        feat = torch.zeros((batch_size, 512, self.seq_len, self.width, self.height)).to(self.device)\n",
    "        \n",
    "        for i in range(self.seq_length):\n",
    "            feat[:, :, i, :, :] = self.encoder(x[:,:,i,:,:])\n",
    "        \n",
    "        x = self.feat_aggregator(feat)\n",
    "        x = self.decoder(x)\n",
    "\n",
    "        return x\n",
    "    \n",
    "if __name__ == '__main__':\n",
    "    class DiceLoss(nn.Module):\n",
    "        def __init__(self, weight=None, size_average=True):\n",
    "            super(DiceLoss, self).__init__()\n",
    "\n",
    "        def forward(self, inputs, targets, smooth=1):\n",
    "            \n",
    "    #         print(inputs.shape, targets.shape)\n",
    "            #comment out if your model contains a sigmoid or equivalent activation layer\n",
    "            inputs = f.sigmoid(inputs)       \n",
    "            \n",
    "            #flatten label and prediction tensors\n",
    "            inputs = inputs[:, 1, :, :]\n",
    "            targets = targets[:, 1, :, :]\n",
    "            #print(inputs.shape)\n",
    "            #print(targets.shape)\n",
    "            inputs = inputs.reshape(-1) #inputs.view(-1)\n",
    "            targets = targets.reshape(-1) #targets.view(-1)\n",
    "            \n",
    "            intersection = (inputs * targets).sum()                            \n",
    "            dice = (2.*intersection + smooth)/(inputs.sum() + targets.sum() + smooth)  \n",
    "            \n",
    "            return 1 - dice\n",
    "\n",
    "    device = 'cuda' if torch.cuda.is_available() else 'cpu'\n",
    "    batch_size = 3\n",
    "    n_classes = 2\n",
    "    seq_len = 20\n",
    "    model = seq_seg(n_classes, seq_len)\n",
    "    model.to(device)\n",
    "\n",
    "    Input = torch.randint(0, 255, (batch_size, 3, seq_len, 512, 512)).type(torch.FloatTensor).to(device)\n",
    "    out = model(Input)\n",
    "    target = torch.ones((batch_size,n_classes, 1, 512, 512)).to(device)\n",
    "    # criterion = nn.CrossEntropyLoss()\n",
    "    criterion = DiceLoss()\n",
    "    optimizer = torch.optim.Adadelta(model.parameters(), lr=0.001)\n",
    "\n",
    "    print('Out shape - ', out.shape)\n",
    "    print('Target shape - ', target.shape)\n",
    "    loss = criterion(out, target)\n",
    "    print(f'loss - {loss.item()}')\n",
    "    \n",
    "    with torch.autograd.set_detect_anomaly(True):\n",
    "        loss.backward()\n",
    "        optimizer.step()"
   ]
  },
  {
   "cell_type": "code",
   "execution_count": 1,
   "id": "df4879e9",
   "metadata": {},
   "outputs": [
    {
     "name": "stdout",
     "output_type": "stream",
     "text": [
      "Tue Jun 20 17:20:03 2023       \n",
      "+-----------------------------------------------------------------------------+\n",
      "| NVIDIA-SMI 515.48.07    Driver Version: 515.48.07    CUDA Version: 11.7     |\n",
      "|-------------------------------+----------------------+----------------------+\n",
      "| GPU  Name        Persistence-M| Bus-Id        Disp.A | Volatile Uncorr. ECC |\n",
      "| Fan  Temp  Perf  Pwr:Usage/Cap|         Memory-Usage | GPU-Util  Compute M. |\n",
      "|                               |                      |               MIG M. |\n",
      "|===============================+======================+======================|\n",
      "|   0  NVIDIA A100-PCI...  Off  | 00000000:D8:00.0 Off |                    0 |\n",
      "| N/A   24C    P0    52W / 250W |     45MiB / 40960MiB |      0%      Default |\n",
      "|                               |                      |             Disabled |\n",
      "+-------------------------------+----------------------+----------------------+\n",
      "                                                                               \n",
      "+-----------------------------------------------------------------------------+\n",
      "| Processes:                                                                  |\n",
      "|  GPU   GI   CI        PID   Type   Process name                  GPU Memory |\n",
      "|        ID   ID                                                   Usage      |\n",
      "|=============================================================================|\n",
      "|    0   N/A  N/A      5220      G   /usr/libexec/Xorg                  22MiB |\n",
      "|    0   N/A  N/A      6120      G   /usr/libexec/Xorg                  22MiB |\n",
      "+-----------------------------------------------------------------------------+\n"
     ]
    }
   ],
   "source": [
    "!nvidia-smi"
   ]
  }
 ],
 "metadata": {
  "kernelspec": {
   "display_name": "pytorch-p100",
   "language": "python",
   "name": "pytorch-p100"
  },
  "language_info": {
   "codemirror_mode": {
    "name": "ipython",
    "version": 3
   },
   "file_extension": ".py",
   "mimetype": "text/x-python",
   "name": "python",
   "nbconvert_exporter": "python",
   "pygments_lexer": "ipython3",
   "version": "3.9.16"
  }
 },
 "nbformat": 4,
 "nbformat_minor": 5
}
